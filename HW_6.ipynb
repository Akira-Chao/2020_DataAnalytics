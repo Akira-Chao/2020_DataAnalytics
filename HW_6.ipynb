{
 "cells": [
  {
   "cell_type": "markdown",
   "metadata": {},
   "source": [
    "# HW 5\n",
    "#### 國立臺灣大學 工業工程所碩士班 一年級 趙上涵 R08546036"
   ]
  },
  {
   "cell_type": "markdown",
   "metadata": {},
   "source": [
    "# Q1\n",
    "<img src='./picture_source/HW_6_1.png'>"
   ]
  },
  {
   "cell_type": "code",
   "execution_count": 8,
   "metadata": {},
   "outputs": [],
   "source": [
    "# import models needed\n",
    "import pandas as pd\n",
    "import numpy as np\n",
    "from sklearn.utils import shuffle\n",
    "from sklearn import linear_model\n",
    "from sklearn.svm import SVC\n",
    "from sklearn.pipeline import make_pipeline\n",
    "from sklearn.preprocessing import StandardScaler\n",
    "from sklearn.cluster import KMeans"
   ]
  },
  {
   "cell_type": "code",
   "execution_count": 2,
   "metadata": {},
   "outputs": [],
   "source": [
    "# prepare the data\n",
    "ORL_data = pd.read_csv('./data/ORL_data.csv')\n",
    "ORL_data = shuffle(ORL_data, random_state=0)\n",
    "ORL_data_X = ORL_data.iloc[:, :-1]\n",
    "ORL_data_y = ORL_data.iloc[:, -1]"
   ]
  },
  {
   "cell_type": "code",
   "execution_count": 3,
   "metadata": {},
   "outputs": [
    {
     "name": "stdout",
     "output_type": "stream",
     "text": [
      "[1 1 1 1 1 1 1 1 1 1 0 1 1 1 0 1 1 1 1 1 1 1 1 1 1 1 1 0 1 1 1 1 1 1 1 1 1\n",
      " 1 1 1 1 1 0 0 1 1 1 1 1 1 1 1 1 1 1 1 1 0 0 0 1 1 0 1 1 1 1 0 1 1 0 1 1 0\n",
      " 1 0 1 1 1 1 1 1 1 1 1 1 1 1 1 1 1 1 1 0 1 1 1 1 1 1 1 1 1 1 1 1 1 1 1 1 1\n",
      " 1 1 0 1 1 1 0 1 1 1 1 1 1 1 1 0 1 1 1 1 1 1 1 1 1 1 1 1 0 1 1 0 1 1 1 1 1\n",
      " 1 1 1 1 1 1 1 1 1 1 1 1 1 1 0 1 1 0 1 1 1 1 1 1 1 1 1 1 1 0 1 1 1 1 1 1 1\n",
      " 1 0 1 1 1 1 1 1 0 0 1 1 1 1 1]\n",
      "\n",
      "\n",
      "Accuracy Score: 1.0\n"
     ]
    }
   ],
   "source": [
    "# apply logistic regression\n",
    "ORL_logistic = linear_model.LogisticRegression(random_state=0, max_iter=100000)\\\n",
    ".fit(ORL_data_X, ORL_data_y)\n",
    "result_logistic = ORL_logistic.predict(ORL_data_X)\n",
    "print(result_logistic[:200])\n",
    "\n",
    "# compute accuracy score\n",
    "accuracy_logistic = ORL_logistic.score(ORL_data_X, ORL_data_y)\n",
    "print('\\n\\nAccuracy Score:', accuracy_logistic)"
   ]
  },
  {
   "cell_type": "code",
   "execution_count": 4,
   "metadata": {},
   "outputs": [
    {
     "name": "stdout",
     "output_type": "stream",
     "text": [
      "[1 1 1 1 1 1 1 1 1 1 0 1 1 1 0 1 1 1 1 1 1 1 1 1 1 1 1 0 1 1 1 1 1 1 1 1 1\n",
      " 1 1 1 1 1 0 0 1 1 1 1 1 1 1 1 1 1 1 1 1 0 0 0 1 1 0 1 1 1 1 0 1 1 0 1 1 0\n",
      " 1 0 1 1 1 1 1 1 1 1 1 1 1 1 1 1 1 1 1 0 1 1 1 1 1 1]\n",
      "1.0\n"
     ]
    }
   ],
   "source": [
    "# apply supoort vector machine algorithm\n",
    "\n",
    "ORL_svm = make_pipeline(StandardScaler(), SVC(gamma='auto'))\n",
    "ORL_svm.fit(ORL_data_X, ORL_data_y)\n",
    "result_svm = ORL_svm.predict(ORL_data_X)\n",
    "print(result_svm[:100])\n",
    "\n",
    "accuracy_logistic = ORL_svm.score(ORL_data_X, ORL_data_y)\n",
    "print('\\n\\nAccuracy Score:', accuracy_logistic)"
   ]
  },
  {
   "cell_type": "code",
   "execution_count": 7,
   "metadata": {},
   "outputs": [
    {
     "name": "stdout",
     "output_type": "stream",
     "text": [
      "1.0\n"
     ]
    }
   ],
   "source": [
    "# compare the result between logistic regression and svm\n",
    "\n",
    "correct_count = 0\n",
    "\n",
    "for i, j in enumerate(result_logistic):\n",
    "    if j == result_svm[i]:\n",
    "        correct_count += 1\n",
    "\n",
    "print(correct_count / len(result_logistic))"
   ]
  },
  {
   "cell_type": "markdown",
   "metadata": {},
   "source": [
    "# Q2"
   ]
  },
  {
   "cell_type": "markdown",
   "metadata": {},
   "source": [
    "<img src='./picture_source/HW_6_2.png'>"
   ]
  },
  {
   "cell_type": "code",
   "execution_count": 12,
   "metadata": {},
   "outputs": [
    {
     "name": "stdout",
     "output_type": "stream",
     "text": [
      "[1 0 0 0 1 0 1 1 1 0 0 1 0 0 0 0 1 1 0 0 1 1 0 0 1 1 0 0 0 0 1 0 0 1 0 0 0\n",
      " 1 1 1 0 1 1 0 1 0 1 0 1 0 1 1 1 1 0 1 1 0 0 0 0 1 1 0 0 1 1 1 1 1 1 1 0 1\n",
      " 1 0 0 0 0 1 0 0 0 1 0 1 0 1 1 1 1 0 1 1 0 1 1 1 1 0 1 0 1 1 0 0 1 0 1 0 0\n",
      " 1 0 0 0 0 1 0 0 0 0 1 0 0 1 1 0 1 0 1 1 1 0 1 0 1 1 0 1 0 1 0 0 0 1 1 0 1\n",
      " 0 0 0 0 0 0 0 1 1 0 0 1 0 1 0 1 1 0 0 0 1 0 1 0 0 1 0 0 1 0 1 1 1 0 1 0 1\n",
      " 0 0 0 0 1 1 1 0 0 1 0 1 0 1 1 1 0 0 1 1 0 0 0 0 1 0 0 0 0 1 0 0 0 1 1 1 0\n",
      " 0 0 0 0 1 1 0 0 0 0 1 1 1 1 1 1 0 0 1 0 0 0 0 1 0 1 1 1 0 1 0 1 1 0 1 1 0\n",
      " 1 1 0 0 1 0 1 1 0 0 0 0 1 0 0 0 0 1 0 1 0 1 0 1 1 0 1 1 0 1 1 0 0 1 0 0 1\n",
      " 0 0 0 1 0 0 0 1 1 1 0 0 0 0 1 0 0 0 1 1 1 1 1 0 1 0 1 1 1 0 1 0 0 0 0 1 1\n",
      " 0 0 1 1 1 0 0 0 0 1 0 0 0 0 0 0 0 0 1 1 1 0 0 0 0 0 1 0 0 1 0 1 1 0 0 0 0\n",
      " 1 0 1 0 0 0 1 0 1 1 1 0 0 1 1 0 1 1 1 1 0 1 0 0 0 1 0 0 0 1]\n",
      "Label exchanged\n",
      "0.53\n"
     ]
    }
   ],
   "source": [
    "ORL_kmeans = KMeans(n_clusters=2, random_state=0).fit(ORL_data_X)\n",
    "print(ORL_kmeans.labels_)\n",
    "result_kmeans = ORL_kmeans.predict(ORL_data_X)\n",
    "\n",
    "# calcualte accuracy\n",
    "correct_count = 0\n",
    "for i, j in enumerate(result_kmeans):\n",
    "    if j == ORL_data_y[i]:\n",
    "        correct_count += 1\n",
    "\n",
    "if (correct_count / len(result_kmeans)) <= 0.5:\n",
    "    print('Label exchanged')\n",
    "    accuracy_kmeans = (1 -  (correct_count / len(result_kmeans)))\n",
    "else:\n",
    "    accuracy_kmeans = (correct_count / len(result_kmeans))\n",
    "    \n",
    "print(accuracy_kmeans)"
   ]
  },
  {
   "cell_type": "code",
   "execution_count": null,
   "metadata": {},
   "outputs": [],
   "source": []
  }
 ],
 "metadata": {
  "kernelspec": {
   "display_name": "Python 3",
   "language": "python",
   "name": "python3"
  },
  "language_info": {
   "codemirror_mode": {
    "name": "ipython",
    "version": 3
   },
   "file_extension": ".py",
   "mimetype": "text/x-python",
   "name": "python",
   "nbconvert_exporter": "python",
   "pygments_lexer": "ipython3",
   "version": "3.7.7"
  }
 },
 "nbformat": 4,
 "nbformat_minor": 4
}
