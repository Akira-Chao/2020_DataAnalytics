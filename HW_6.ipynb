{
 "cells": [
  {
   "cell_type": "markdown",
   "metadata": {},
   "source": [
    "# HW 5\n",
    "#### 國立臺灣大學 工業工程所碩士班 一年級 趙上涵 R08546036"
   ]
  },
  {
   "cell_type": "markdown",
   "metadata": {},
   "source": [
    "# Q1\n",
    "<img src='./picture_source/HW_6_1.png'>"
   ]
  },
  {
   "cell_type": "markdown",
   "metadata": {},
   "source": [
    "# Answer\n",
    "#### We compare the logistic regression and support vector machine on the ORL face dataset, with both of the classifier had reached an accuracy level at 1.0 ot 100%, which seems to well distinguish the two labels of the dataset."
   ]
  },
  {
   "cell_type": "code",
   "execution_count": 17,
   "metadata": {},
   "outputs": [],
   "source": [
    "# import models needed\n",
    "import pandas as pd\n",
    "import numpy as np\n",
    "import matplotlib.pyplot as plt\n",
    "from sklearn.utils import shuffle\n",
    "from sklearn import linear_model\n",
    "from sklearn.svm import SVC\n",
    "from sklearn.pipeline import make_pipeline\n",
    "from sklearn.preprocessing import StandardScaler\n",
    "from sklearn.cluster import KMeans"
   ]
  },
  {
   "cell_type": "code",
   "execution_count": 6,
   "metadata": {},
   "outputs": [],
   "source": [
    "# prepare the data\n",
    "ORL_data = pd.read_csv('./data/ORL_data.csv')\n",
    "ORL_data = shuffle(ORL_data, random_state=0)\n",
    "ORL_data_X = ORL_data.iloc[:, :-1]\n",
    "ORL_data_y = ORL_data.iloc[:, -1]"
   ]
  },
  {
   "cell_type": "code",
   "execution_count": 7,
   "metadata": {},
   "outputs": [
    {
     "name": "stdout",
     "output_type": "stream",
     "text": [
      "[1 1 1 1 1 1 1 1 1 1 0 1 1 1 0 1 1 1 1 1 1 1 1 1 1 1 1 0 1 1 1 1 1 1 1 1 1\n",
      " 1 1 1 1 1 0 0 1 1 1 1 1 1 1 1 1 1 1 1 1 0 0 0 1 1 0 1 1 1 1 0 1 1 0 1 1 0\n",
      " 1 0 1 1 1 1 1 1 1 1 1 1 1 1 1 1 1 1 1 0 1 1 1 1 1 1 1 1 1 1 1 1 1 1 1 1 1\n",
      " 1 1 0 1 1 1 0 1 1 1 1 1 1 1 1 0 1 1 1 1 1 1 1 1 1 1 1 1 0 1 1 0 1 1 1 1 1\n",
      " 1 1 1 1 1 1 1 1 1 1 1 1 1 1 0 1 1 0 1 1 1 1 1 1 1 1 1 1 1 0 1 1 1 1 1 1 1\n",
      " 1 0 1 1 1 1 1 1 0 0 1 1 1 1 1]\n",
      "\n",
      "\n",
      "Accuracy Score: 1.0\n"
     ]
    }
   ],
   "source": [
    "# apply logistic regression\n",
    "ORL_logistic = linear_model.LogisticRegression(random_state=0, max_iter=100000)\\\n",
    ".fit(ORL_data_X, ORL_data_y)\n",
    "result_logistic = ORL_logistic.predict(ORL_data_X)\n",
    "print(result_logistic[:200])\n",
    "\n",
    "# compute accuracy score\n",
    "accuracy_logistic = ORL_logistic.score(ORL_data_X, ORL_data_y)\n",
    "print('\\n\\nAccuracy Score:', accuracy_logistic)"
   ]
  },
  {
   "cell_type": "code",
   "execution_count": 8,
   "metadata": {},
   "outputs": [
    {
     "name": "stdout",
     "output_type": "stream",
     "text": [
      "[1 1 1 1 1 1 1 1 1 1 0 1 1 1 0 1 1 1 1 1 1 1 1 1 1 1 1 0 1 1 1 1 1 1 1 1 1\n",
      " 1 1 1 1 1 0 0 1 1 1 1 1 1 1 1 1 1 1 1 1 0 0 0 1 1 0 1 1 1 1 0 1 1 0 1 1 0\n",
      " 1 0 1 1 1 1 1 1 1 1 1 1 1 1 1 1 1 1 1 0 1 1 1 1 1 1]\n",
      "\n",
      "\n",
      "Accuracy Score: 1.0\n"
     ]
    }
   ],
   "source": [
    "# apply supoort vector machine algorithm\n",
    "\n",
    "ORL_svm = make_pipeline(StandardScaler(), SVC(gamma='auto'))\n",
    "ORL_svm.fit(ORL_data_X, ORL_data_y)\n",
    "result_svm = ORL_svm.predict(ORL_data_X)\n",
    "print(result_svm[:100])\n",
    "\n",
    "accuracy_logistic = ORL_svm.score(ORL_data_X, ORL_data_y)\n",
    "print('\\n\\nAccuracy Score:', accuracy_logistic)"
   ]
  },
  {
   "cell_type": "code",
   "execution_count": 9,
   "metadata": {},
   "outputs": [
    {
     "name": "stdout",
     "output_type": "stream",
     "text": [
      "1.0\n"
     ]
    }
   ],
   "source": [
    "# compare the result between logistic regression and svm\n",
    "\n",
    "correct_count = 0\n",
    "\n",
    "for i, j in enumerate(result_logistic):\n",
    "    if j == result_svm[i]:\n",
    "        correct_count += 1\n",
    "\n",
    "print(correct_count / len(result_logistic))"
   ]
  },
  {
   "cell_type": "markdown",
   "metadata": {},
   "source": [
    "# Q2"
   ]
  },
  {
   "cell_type": "markdown",
   "metadata": {},
   "source": [
    "<img src='./picture_source/HW_6_2.png'>"
   ]
  },
  {
   "cell_type": "markdown",
   "metadata": {},
   "source": [
    "# Answers\n",
    "## (a)\n",
    "#### According the elbow theorum, the point that the cost decreases the most, would be the better option to choose the k value. In our case, we can not really define which point to be the elbow point and thus when k is larger, the distinguish ability of the k means classfier would be also larger.\n",
    "## (b)\n",
    "#### When we set k as 2, the ability of k means classifier to distinguish two gender seems to be not that well, with an accuracy at approximately 0.53."
   ]
  },
  {
   "cell_type": "code",
   "execution_count": 19,
   "metadata": {},
   "outputs": [
    {
     "name": "stdout",
     "output_type": "stream",
     "text": [
      "[1503653266.4375, 1291397135.28274, 1194227594.0161858, 1113548333.334022, 1073234190.0646896, 1034626332.8296208, 996235005.8266168, 955852165.9489533, 931997858.0733422, 893282441.4852496]\n"
     ]
    },
    {
     "data": {
      "image/png": "[encoded data removed]",
      "text/plain": [
       "<Figure size 432x288 with 1 Axes>"
      ]
     },
     "metadata": {
      "needs_background": "light"
     },
     "output_type": "display_data"
    }
   ],
   "source": [
    "# function returns WSS score for k values from 1 to kmax\n",
    "kenel_num = [i for i in range(1, 11)]\n",
    "cost = []\n",
    "\n",
    "for i, j in enumerate(kenel_num):\n",
    "    ORL_kmeans = KMeans(n_clusters=j, random_state=0, max_iter=500).fit(ORL_data_X)\n",
    "    # calculates squared error \n",
    "    # for the clustered points\n",
    "    cost.append(ORL_kmeans.inertia_)\n",
    "    \n",
    "print(cost)\n",
    "\n",
    "# plot the cost against K values \n",
    "plt.plot(range(1, 11), cost, color ='g', linewidth ='3') \n",
    "plt.xlabel(\"Value of K\") \n",
    "plt.ylabel(\"Sqaured Error (Cost)\") \n",
    "plt.show()"
   ]
  },
  {
   "cell_type": "code",
   "execution_count": 23,
   "metadata": {},
   "outputs": [
    {
     "name": "stdout",
     "output_type": "stream",
     "text": [
      "Label exchanged\n",
      "0.53\n"
     ]
    }
   ],
   "source": [
    "ORL_kmeans = KMeans(n_clusters=2, random_state=0, max_iter=10000).fit(ORL_data_X)\n",
    "result_kmeans = ORL_kmeans.predict(ORL_data_X)\n",
    "\n",
    "# calcualte accuracy\n",
    "correct_count = 0\n",
    "for i, j in enumerate(result_kmeans):\n",
    "    if j == ORL_data_y[i]:\n",
    "        correct_count += 1\n",
    "\n",
    "if (correct_count / len(result_kmeans)) <= 0.5:\n",
    "    print('Label exchanged')\n",
    "    accuracy_kmeans = (1 -  (correct_count / len(result_kmeans)))\n",
    "else:\n",
    "    accuracy_kmeans = (correct_count / len(result_kmeans))\n",
    "    \n",
    "print(accuracy_kmeans)"
   ]
  }
 ],
 "metadata": {
  "kernelspec": {
   "display_name": "normal",
   "language": "python",
   "name": "normal"
  },
  "language_info": {
   "codemirror_mode": {
    "name": "ipython",
    "version": 3
   },
   "file_extension": ".py",
   "mimetype": "text/x-python",
   "name": "python",
   "nbconvert_exporter": "python",
   "pygments_lexer": "ipython3",
   "version": "3.7.7"
  }
 },
 "nbformat": 4,
 "nbformat_minor": 4
}
