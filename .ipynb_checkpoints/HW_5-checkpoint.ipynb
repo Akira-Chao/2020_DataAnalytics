{
 "cells": [
  {
   "cell_type": "markdown",
   "metadata": {},
   "source": [
    "# HW 5\n",
    "#### 國立臺灣大學 工業工程所碩士班 一年級 趙上涵 R08546036"
   ]
  },
  {
   "cell_type": "markdown",
   "metadata": {},
   "source": [
    "# Q1\n",
    "<img src='./picture_source/HW_5_1.PNG'>"
   ]
  },
  {
   "cell_type": "code",
   "execution_count": 11,
   "metadata": {},
   "outputs": [],
   "source": [
    "import pandas as pd\n",
    "import numpy as np"
   ]
  },
  {
   "cell_type": "code",
   "execution_count": 157,
   "metadata": {},
   "outputs": [
    {
     "name": "stdout",
     "output_type": "stream",
     "text": [
      "A (4, 392)\n",
      "A_transpose (392, 4)\n",
      "Psi (392, 392)\n",
      "X (392, 8)\n",
      "factor (8, 4)\n"
     ]
    },
    {
     "name": "stderr",
     "output_type": "stream",
     "text": [
      "C:\\Users\\ricardo\\Anaconda3\\lib\\site-packages\\numpy\\lib\\index_tricks.py:880: ComplexWarning: Casting complex values to real discards the imaginary part\n",
      "  a.flat[:end:step] = val\n"
     ]
    }
   ],
   "source": [
    "def factor_analyzer(X, factor_number):\n",
    "    # calculate X mean and center X\n",
    "    X_mean = np.mean(X.T, axis=1)\n",
    "    X_center = X - X_mean\n",
    "    X_covariance = np.cov(X_center)\n",
    "    # produce eigenvalues and eigenvectors\n",
    "    eigenvalues, eigenvectors = np.linalg.eig(X_covariance)\n",
    "    # produce eigenvalues diagonal matrix and eigenvalues diagonal matrix\n",
    "    eigenvalues_diagonal = np.zeros((factor_number,factor_number), float)\n",
    "    np.fill_diagonal(eigenvalues_diagonal, eigenvalues[:factor_number])\n",
    "    # produce A_transpose and A\n",
    "    eigenvalues_diagonal_sqrt = np.sqrt(eigenvalues_diagonal)\n",
    "    A_transpose = eigenvectors[:, :factor_number].dot(eigenvalues_diagonal_sqrt)\n",
    "    A = eigenvalues_diagonal_sqrt.dot(eigenvectors[:, :factor_number].T)\n",
    "    print('A', A.shape)\n",
    "    print('A_transpose', A_transpose.shape)\n",
    "    # calculate Psi\n",
    "    Psi = X_covariance - A_transpose.dot(A)\n",
    "    print('Psi', Psi.shape)\n",
    "    Psi_inverse = np.linalg.inv(Psi)\n",
    "#     print(Psi)\n",
    "    print('X', X.shape)\n",
    "    former = np.linalg.inv(A.dot(Psi_inverse).dot(A_transpose))\n",
    "#     factor = X.dot(Psi_inverse).dot(A_transpose).dot(former)\n",
    "    factor = X.T.dot(Psi_inverse).dot(A_transpose).dot(former)\n",
    "#     print(factor)\n",
    "    print('factor', factor.shape)\n",
    "    \n",
    "AutoMPG = pd.read_csv('./data/AutoMPG.csv')\n",
    "factor_analyzer(AutoMPG, 4)"
   ]
  },
  {
   "cell_type": "markdown",
   "metadata": {},
   "source": [
    "# Q2\n",
    "<img src='./picture_source/HW_5_2.PNG'>"
   ]
  },
  {
   "cell_type": "code",
   "execution_count": 3,
   "metadata": {},
   "outputs": [],
   "source": [
    "import pandas as pd\n",
    "import numpy as np"
   ]
  },
  {
   "cell_type": "code",
   "execution_count": 10,
   "metadata": {},
   "outputs": [
    {
     "name": "stdout",
     "output_type": "stream",
     "text": [
      "(2576, 400)\n"
     ]
    }
   ],
   "source": [
    "ORL_data = pd.read_csv('./data/ORL_data.csv')\n",
    "X = ORL_data.iloc[:, :-1].to_numpy().T\n",
    "y = ORL_data.iloc[:, -1].to_numpy()\n",
    "\n"
   ]
  }
 ],
 "metadata": {
  "kernelspec": {
   "display_name": "KerasGPU",
   "language": "python",
   "name": "kerasgpu"
  },
  "language_info": {
   "codemirror_mode": {
    "name": "ipython",
    "version": 3
   },
   "file_extension": ".py",
   "mimetype": "text/x-python",
   "name": "python",
   "nbconvert_exporter": "python",
   "pygments_lexer": "ipython3",
   "version": "3.7.7"
  }
 },
 "nbformat": 4,
 "nbformat_minor": 4
}
