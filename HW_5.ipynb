{
 "cells": [
  {
   "cell_type": "markdown",
   "metadata": {},
   "source": [
    "# HW 5\n",
    "#### 國立臺灣大學 工業工程所碩士班 一年級 趙上涵 R08546036"
   ]
  },
  {
   "cell_type": "markdown",
   "metadata": {},
   "source": [
    "# Q1\n",
    "<img src='./picture_source/HW_5_1.PNG'>"
   ]
  },
  {
   "cell_type": "code",
   "execution_count": null,
   "metadata": {},
   "outputs": [],
   "source": [
    "def PCA_decomposition(X, isCorrMX):\n",
    "    # Reference: https://machinelearningmastery.com/calculate-principal-component-analysis-scratch-python/\n",
    "    # calculate mean of the array\n",
    "    X_mean = np.mean(X.T, axis=1)\n",
    "    # center the values\n",
    "    X_center = X - X_mean\n",
    "    # check if use Correlation Matrix\n",
    "    if isCorrMX == True:\n",
    "        X_covariance = np.corrcoef(X_center.T)\n",
    "    else:\n",
    "        X_covariance = np.cov(X_center.T)\n",
    "    # calculate eigenvalues and eigenvectors\n",
    "    # https://docs.scipy.org/doc/numpy/reference/generated/numpy.linalg.eig.html\n",
    "    eigenvalues, eigenvectors = np.linalg.eig(X_covariance)\n",
    "    X_project = -(eigenvectors.T.dot(X_center.T).T)\n",
    "    \n",
    "    # calculate explainable ratio of each pricipal components\n",
    "    explainable_ratio_list = []\n",
    "    for i in range(eigenvalues.shape[0]):\n",
    "        eigenvalues_totals = np.sum(eigenvalues)\n",
    "        ratio = eigenvalues[i] / eigenvalues_totals\n",
    "        explainable_ratio_list.append(ratio)\n",
    "\n",
    "    # calculate how many principal components needed to explain 50, 60, 70, 80, 90% of total variance\n",
    "    total_explainable_ratio = 0\n",
    "    total_explainable_ratio_list = []\n",
    "    culmulative_explainable_ratio_list = []\n",
    "    components_needed_list = []\n",
    "    for i, j in enumerate(explainable_ratio_list):\n",
    "        total_explainable_ratio += j\n",
    "        total_explainable_ratio_list.append(total_explainable_ratio)\n",
    "        culmulative_explainable_ratio_list.append(np.sum(explainable_ratio_list[(i):]))\n",
    "    \n",
    "    total_explainable_ratio = 0\n",
    "    for i, j in enumerate(explainable_ratio_list):\n",
    "        total_explainable_ratio += j\n",
    "        if total_explainable_ratio >= 0.9:\n",
    "            if len(components_needed_list) < 5:\n",
    "                components_needed_list.append(i + 1)\n",
    "                print('90%:', str(i + 1), 'pricipal components needed.')\n",
    "            break\n",
    "        elif total_explainable_ratio >= 0.8:\n",
    "            if len(components_needed_list) < 4:\n",
    "                components_needed_list.append(i + 1)\n",
    "                print('80%:', str(i + 1), 'pricipal components needed.')\n",
    "        elif total_explainable_ratio >= 0.7:\n",
    "            if len(components_needed_list) < 3:\n",
    "                components_needed_list.append(i + 1)\n",
    "                print('70%:', str(i + 1), 'pricipal components needed.')\n",
    "        elif total_explainable_ratio >= 0.6:\n",
    "            if len(components_needed_list) < 2:\n",
    "                components_needed_list.append(i + 1)\n",
    "                print('60%:', str(i + 1), 'pricipal components needed.')\n",
    "        elif total_explainable_ratio >= 0.5:\n",
    "            if len(components_needed_list) < 1:\n",
    "                components_needed_list.append(i + 1)\n",
    "                print('50%:', str(i + 1), 'pricipal components needed.')\n",
    "                \n",
    "    # Plot the scree plot\n",
    "    if len(explainable_ratio_list) <= 15:\n",
    "        x_list = ['PC' + str(i) for i in range(1, len(explainable_ratio_list) + 1)]\n",
    "        plt.plot(total_explainable_ratio_list)\n",
    "        plt.bar(x_list, culmulative_explainable_ratio_list, align='center', alpha=0.5)\n",
    "    else:\n",
    "        x_list = ['PC' + str(i) for i in range(1, 16)]\n",
    "        plt.plot(total_explainable_ratio_list[:15])\n",
    "        plt.bar(x_list, culmulative_explainable_ratio_list[:15], align='center', alpha=0.5)\n",
    "    plt.xticks(rotation=90)\n",
    "    plt.show()\n",
    "\n",
    "    return eigenvalues, eigenvectors, X_project"
   ]
  },
  {
   "cell_type": "markdown",
   "metadata": {},
   "source": [
    "# Q2\n",
    "<img src='./picture_source/HW_5_2.PNG'>"
   ]
  },
  {
   "cell_type": "code",
   "execution_count": null,
   "metadata": {},
   "outputs": [],
   "source": []
  }
 ],
 "metadata": {
  "kernelspec": {
   "display_name": "KerasGPU",
   "language": "python",
   "name": "kerasgpu"
  },
  "language_info": {
   "codemirror_mode": {
    "name": "ipython",
    "version": 3
   },
   "file_extension": ".py",
   "mimetype": "text/x-python",
   "name": "python",
   "nbconvert_exporter": "python",
   "pygments_lexer": "ipython3",
   "version": "3.7.7"
  }
 },
 "nbformat": 4,
 "nbformat_minor": 4
}
