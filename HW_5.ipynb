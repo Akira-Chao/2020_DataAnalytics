{
 "cells": [
  {
   "cell_type": "markdown",
   "metadata": {},
   "source": [
    "# HW 5\n",
    "#### 國立臺灣大學 工業工程所碩士班 一年級 趙上涵 R08546036"
   ]
  },
  {
   "cell_type": "markdown",
   "metadata": {},
   "source": [
    "# Q1\n",
    "<img src='./picture_source/HW_5_1.PNG'>"
   ]
  },
  {
   "cell_type": "code",
   "execution_count": 11,
   "metadata": {},
   "outputs": [],
   "source": [
    "import pandas as pd\n",
    "import numpy as np"
   ]
  },
  {
   "cell_type": "code",
   "execution_count": 181,
   "metadata": {},
   "outputs": [],
   "source": [
    "def factor_analyzer(X, factor_number):\n",
    "    # calculate X mean and center X\n",
    "    X_mean = np.mean(X.T, axis=1)\n",
    "    X_center = X - X_mean\n",
    "    X_covariance = np.cov(X_center.T)\n",
    "    # produce eigenvalues and eigenvectors\n",
    "    eigenvalues, eigenvectors = np.linalg.eig(X_covariance)\n",
    "    eigenvalues_selected = eigenvalues[:factor_number] # keep selected eigenvalues only\n",
    "    # produce eigenvalues diagonal matrix and eigenvalues diagonal matrix\n",
    "    eigenvalues_diagonal = np.zeros((factor_number,factor_number), float)\n",
    "    np.fill_diagonal(eigenvalues_diagonal, eigenvalues[:factor_number])\n",
    "    # produce A_transpose and A\n",
    "    eigenvalues_diagonal_sqrt = np.sqrt(eigenvalues_diagonal)\n",
    "    A_transpose = eigenvectors[:, :factor_number].dot(eigenvalues_diagonal_sqrt)\n",
    "    A = eigenvalues_diagonal_sqrt.dot(eigenvectors[:, :factor_number].T)\n",
    "#     print('A', A.shape)\n",
    "#     print('A_transpose', A_transpose.shape)\n",
    "    # calculate Psi\n",
    "    Psi = X_covariance - A_transpose.dot(A)\n",
    "#     print('Psi', Psi.shape)\n",
    "    Psi_inverse = np.linalg.inv(Psi)\n",
    "#     print(Psi)\n",
    "#     print('X', X.shape)\n",
    "    former = np.linalg.inv(A.dot(Psi_inverse).dot(A_transpose))\n",
    "#     factor = X.dot(Psi_inverse).dot(A_transpose).dot(former)\n",
    "    factor = X.dot(Psi_inverse).dot(A_transpose).dot(former)\n",
    "    # calculate communality vector\n",
    "    communality_vector = X_covariance - Psi\n",
    "    \n",
    "    # print out summary\n",
    "    print(\"========================== Output Summary ==========================\\n\"\\\n",
    "    \"【The loading matrix A】\\n\", A, \"\\n\\n【Factor Matrix】\\n\", factor, \n",
    "          \"\\n\\n【Communality Matrix】\\n\", communality_vector,\n",
    "         \"\\n\\n【Uniqueness Vector】\\n\", Psi, \"\\n\\n\")\n",
    "    \n",
    "    # calculate contribution of each factor\n",
    "    for i, j in enumerate(eigenvalues_selected):\n",
    "        covarianve_total = np.sum(X_covariance)\n",
    "        factor_contribution = np.around((j / covarianve_total), decimals=6)\n",
    "        print('Contribution of factor', (i+1), 'is', factor_contribution)\n",
    "    \n",
    "    return factor\n"
   ]
  },
  {
   "cell_type": "code",
   "execution_count": 182,
   "metadata": {},
   "outputs": [
    {
     "name": "stdout",
     "output_type": "stream",
     "text": [
      "========================== Output Summary ==========================\n",
      "【The loading matrix A】\n",
      " [[-2.76283280e+00  1.53387336e+00  9.78371325e+01  3.33425074e+01\n",
      "   8.49389559e+02 -1.15756714e+00 -1.14389470e+00 -4.71929042e-01]\n",
      " [-2.87773671e-01  5.18452533e-01  3.67996255e+01  1.16056631e+01\n",
      "  -4.69938987e+00 -1.35513260e+00 -9.28772516e-01 -1.26213461e-01]] \n",
      "\n",
      "【Factor Matrix】\n",
      "             0         1\n",
      "0    4.111849 -2.470120\n",
      "1    4.338456 -1.742643\n",
      "2    4.035343 -1.837499\n",
      "3    4.029994 -2.169196\n",
      "4    4.047833 -2.342860\n",
      "..        ...       ...\n",
      "387  3.259159 -4.662922\n",
      "388  2.486146 -3.929647\n",
      "389  2.684141 -3.260199\n",
      "390  3.064742 -4.693316\n",
      "391  3.174950 -4.990451\n",
      "\n",
      "[392 rows x 2 columns] \n",
      "\n",
      "【Communality Matrix】\n",
      " [[ 7.71605875e+00 -4.38703262e+00 -2.80897602e+02 -9.54595771e+01\n",
      "  -2.34536897e+03  3.58813595e+00  3.42766608e+00  1.34018195e+00]\n",
      " [-4.38703262e+00  2.62156052e+00  1.69148630e+02  5.71601693e+01\n",
      "   1.30041961e+03 -2.47813333e+00 -2.23611408e+00 -7.89315075e-01]\n",
      " [-2.80897602e+02  1.69148630e+02  1.09263169e+04  3.68921937e+03\n",
      "   8.29289030e+04 -1.63121422e+02 -1.46093858e+02 -5.08167923e+01]\n",
      " [-9.54595771e+01  5.71601693e+01  3.68921937e+03  1.24641421e+03\n",
      "   2.82662381e+04 -5.43234033e+01 -4.89193385e+01 -1.72000885e+01]\n",
      " [-2.34536897e+03  1.30041961e+03  8.29289030e+04  2.82662381e+04\n",
      "   7.21484707e+05 -9.76857148e+02 -9.67247554e+02 -4.00258475e+02]\n",
      " [ 3.58813595e+00 -2.47813333e+00 -1.63121422e+02 -5.43234033e+01\n",
      "  -9.76857148e+02  3.17634605e+00  2.58274484e+00  7.17325527e-01]\n",
      " [ 3.42766608e+00 -2.23611408e+00 -1.46093858e+02 -4.89193385e+01\n",
      "  -9.67247554e+02  2.58274484e+00  2.17111348e+00  6.57060725e-01]\n",
      " [ 1.34018195e+00 -7.89315075e-01 -5.08167923e+01 -1.72000885e+01\n",
      "  -4.00258475e+02  7.17325527e-01  6.57060725e-01  2.38646858e-01]] \n",
      "\n",
      "【Uniqueness Vector】\n",
      " [[ 3.29289904e+00 -1.36351484e-02  1.37766087e+00 -3.95199183e+00\n",
      "   1.26102941e-02  2.86862606e-01  3.66908845e+00  1.70294201e-01]\n",
      " [-1.36351484e-02  2.88135968e-01  5.73318188e-01 -1.81192565e+00\n",
      "   4.75520575e-03  1.03081137e-01  6.41844372e-02  7.58064193e-03]\n",
      " [ 1.37766087e+00  5.73318188e-01  2.40506260e+01 -7.51856214e+01\n",
      "   1.97101787e-01  6.12698650e+00  3.52172522e+00 -9.83999756e-01]\n",
      " [-3.95199183e+00 -1.81192565e+00 -7.51856214e+01  2.35155180e+02\n",
      "  -6.17865933e-01 -1.88635637e+01 -1.01170935e+01  3.08734772e+00]\n",
      " [ 1.26102941e-02  4.75520575e-03  1.97101787e-01 -6.17865933e-01\n",
      "   1.66194560e-03  4.18950034e-02  1.90974782e-02 -7.57515663e-03]\n",
      " [ 2.86862606e-01  1.03081137e-01  6.12698650e+00 -1.88635637e+01\n",
      "   4.18950034e-02  4.43498518e+00  3.67717089e-01 -2.44537282e-01]\n",
      " [ 3.66908845e+00  6.41844372e-02  3.52172522e+00 -1.01170935e+01\n",
      "   1.90974782e-02  3.67717089e-01  1.13988014e+01 -1.18410483e-01]\n",
      " [ 1.70294201e-01  7.58064193e-03 -9.83999756e-01  3.08734772e+00\n",
      "  -7.57515663e-03 -2.44537282e-01 -1.18410483e-01  4.10212685e-01]] \n",
      "\n",
      "\n",
      "Contribution of factor 1 is 0.766256\n",
      "Contribution of factor 2 is 0.001585\n"
     ]
    }
   ],
   "source": [
    "AutoMPG = pd.read_csv('./data/AutoMPG.csv')\n",
    "factor = factor_analyzer(AutoMPG, 2)"
   ]
  },
  {
   "cell_type": "markdown",
   "metadata": {},
   "source": [
    "# Q2\n",
    "<img src='./picture_source/HW_5_2.PNG'>"
   ]
  },
  {
   "cell_type": "code",
   "execution_count": 3,
   "metadata": {},
   "outputs": [],
   "source": [
    "import pandas as pd\n",
    "import numpy as np"
   ]
  },
  {
   "cell_type": "code",
   "execution_count": 10,
   "metadata": {},
   "outputs": [
    {
     "name": "stdout",
     "output_type": "stream",
     "text": [
      "(2576, 400)\n"
     ]
    }
   ],
   "source": [
    "ORL_data = pd.read_csv('./data/ORL_data.csv')\n",
    "X = ORL_data.iloc[:, :-1].to_numpy().T\n",
    "y = ORL_data.iloc[:, -1].to_numpy()\n",
    "\n"
   ]
  }
 ],
 "metadata": {
  "kernelspec": {
   "display_name": "KerasGPU",
   "language": "python",
   "name": "kerasgpu"
  },
  "language_info": {
   "codemirror_mode": {
    "name": "ipython",
    "version": 3
   },
   "file_extension": ".py",
   "mimetype": "text/x-python",
   "name": "python",
   "nbconvert_exporter": "python",
   "pygments_lexer": "ipython3",
   "version": "3.7.7"
  }
 },
 "nbformat": 4,
 "nbformat_minor": 4
}
